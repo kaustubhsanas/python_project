{
 "cells": [
  {
   "cell_type": "markdown",
   "id": "5c7c933f",
   "metadata": {},
   "source": [
    "# importing the required library"
   ]
  },
  {
   "cell_type": "code",
   "execution_count": 1,
   "id": "67ec3452",
   "metadata": {},
   "outputs": [],
   "source": [
    "import pandas as pd\n",
    "import seaborn as sns\n",
    "import matplotlib.pyplot as plt"
   ]
  },
  {
   "cell_type": "markdown",
   "id": "98456040",
   "metadata": {},
   "source": [
    "# problem statement\n",
    "\n",
    "### Meta has IMDB-id + Movie title + 'Year of Release'\n",
    "### Rating has IMDB-id + Rating."
   ]
  },
  {
   "cell_type": "markdown",
   "id": "ee889fb0",
   "metadata": {},
   "source": [
    "### Across the year which top-5  movie title that got the highest rating (Need to merge 'meta' + 'rating')\n",
    "### Plot for top-10 movie title with rating across the years. (Need to merge 'meta' + 'rating')\n",
    "### Top-5 movie highest rating movie across years. (Need to merge 'meta' + 'rating')\n",
    "### Year wise total votes.(Need to merge 'meta' + 'rating')"
   ]
  },
  {
   "cell_type": "markdown",
   "id": "9ec11e96",
   "metadata": {},
   "source": [
    "## Importing data"
   ]
  },
  {
   "cell_type": "code",
   "execution_count": 3,
   "id": "deaccd18",
   "metadata": {},
   "outputs": [],
   "source": [
    "pd.options.display.max_rows = 20\n",
    "\n",
    "meta = pd.read_csv(\"data/bollywood_meta_2010-2019.csv\")\n",
    "ratings = pd.read_csv(\"data/bollywood_ratings_2010-2019.csv\")"
   ]
  },
  {
   "cell_type": "code",
   "execution_count": 4,
   "id": "9a0b5a1e",
   "metadata": {},
   "outputs": [
    {
     "data": {
      "text/html": [
       "<div>\n",
       "<style scoped>\n",
       "    .dataframe tbody tr th:only-of-type {\n",
       "        vertical-align: middle;\n",
       "    }\n",
       "\n",
       "    .dataframe tbody tr th {\n",
       "        vertical-align: top;\n",
       "    }\n",
       "\n",
       "    .dataframe thead th {\n",
       "        text-align: right;\n",
       "    }\n",
       "</style>\n",
       "<table border=\"1\" class=\"dataframe\">\n",
       "  <thead>\n",
       "    <tr style=\"text-align: right;\">\n",
       "      <th></th>\n",
       "      <th>imdb_id</th>\n",
       "      <th>imdb_rating</th>\n",
       "      <th>imdb_votes</th>\n",
       "    </tr>\n",
       "  </thead>\n",
       "  <tbody>\n",
       "    <tr>\n",
       "      <th>0</th>\n",
       "      <td>tt8291224</td>\n",
       "      <td>8.4</td>\n",
       "      <td>35112.0</td>\n",
       "    </tr>\n",
       "    <tr>\n",
       "      <th>1</th>\n",
       "      <td>tt9472208</td>\n",
       "      <td>4.1</td>\n",
       "      <td>73.0</td>\n",
       "    </tr>\n",
       "    <tr>\n",
       "      <th>2</th>\n",
       "      <td>tt6986710</td>\n",
       "      <td>6.1</td>\n",
       "      <td>5549.0</td>\n",
       "    </tr>\n",
       "    <tr>\n",
       "      <th>3</th>\n",
       "      <td>tt8108208</td>\n",
       "      <td>6.0</td>\n",
       "      <td>1891.0</td>\n",
       "    </tr>\n",
       "    <tr>\n",
       "      <th>4</th>\n",
       "      <td>tt6028796</td>\n",
       "      <td>7.3</td>\n",
       "      <td>280.0</td>\n",
       "    </tr>\n",
       "    <tr>\n",
       "      <th>...</th>\n",
       "      <td>...</td>\n",
       "      <td>...</td>\n",
       "      <td>...</td>\n",
       "    </tr>\n",
       "    <tr>\n",
       "      <th>930</th>\n",
       "      <td>tt7997334</td>\n",
       "      <td>0.0</td>\n",
       "      <td>0.0</td>\n",
       "    </tr>\n",
       "    <tr>\n",
       "      <th>931</th>\n",
       "      <td>tt4718678</td>\n",
       "      <td>0.0</td>\n",
       "      <td>0.0</td>\n",
       "    </tr>\n",
       "    <tr>\n",
       "      <th>932</th>\n",
       "      <td>tt10635372</td>\n",
       "      <td>0.0</td>\n",
       "      <td>0.0</td>\n",
       "    </tr>\n",
       "    <tr>\n",
       "      <th>933</th>\n",
       "      <td>tt3482198</td>\n",
       "      <td>0.0</td>\n",
       "      <td>0.0</td>\n",
       "    </tr>\n",
       "    <tr>\n",
       "      <th>934</th>\n",
       "      <td>tt1680317</td>\n",
       "      <td>0.0</td>\n",
       "      <td>0.0</td>\n",
       "    </tr>\n",
       "  </tbody>\n",
       "</table>\n",
       "<p>935 rows × 3 columns</p>\n",
       "</div>"
      ],
      "text/plain": [
       "        imdb_id  imdb_rating  imdb_votes\n",
       "0     tt8291224          8.4     35112.0\n",
       "1     tt9472208          4.1        73.0\n",
       "2     tt6986710          6.1      5549.0\n",
       "3     tt8108208          6.0      1891.0\n",
       "4     tt6028796          7.3       280.0\n",
       "..          ...          ...         ...\n",
       "930   tt7997334          0.0         0.0\n",
       "931   tt4718678          0.0         0.0\n",
       "932  tt10635372          0.0         0.0\n",
       "933   tt3482198          0.0         0.0\n",
       "934   tt1680317          0.0         0.0\n",
       "\n",
       "[935 rows x 3 columns]"
      ]
     },
     "execution_count": 4,
     "metadata": {},
     "output_type": "execute_result"
    }
   ],
   "source": [
    "meta\n",
    "\n",
    "ratings"
   ]
  },
  {
   "cell_type": "code",
   "execution_count": 5,
   "id": "20d54c28",
   "metadata": {},
   "outputs": [
    {
     "data": {
      "text/plain": [
       "0      8.4\n",
       "1      4.1\n",
       "2      6.1\n",
       "3      6.0\n",
       "4      7.3\n",
       "      ... \n",
       "930    0.0\n",
       "931    0.0\n",
       "932    0.0\n",
       "933    0.0\n",
       "934    0.0\n",
       "Name: imdb_rating, Length: 935, dtype: float64"
      ]
     },
     "execution_count": 5,
     "metadata": {},
     "output_type": "execute_result"
    }
   ],
   "source": [
    "ratings['imdb_rating']"
   ]
  },
  {
   "cell_type": "code",
   "execution_count": 6,
   "id": "45c36929",
   "metadata": {},
   "outputs": [
    {
     "name": "stdout",
     "output_type": "stream",
     "text": [
      "<class 'pandas.core.frame.DataFrame'>\n",
      "RangeIndex: 929 entries, 0 to 928\n",
      "Data columns (total 7 columns):\n",
      " #   Column           Non-Null Count  Dtype \n",
      "---  ------           --------------  ----- \n",
      " 0   imdb_id          929 non-null    object\n",
      " 1   title            929 non-null    object\n",
      " 2   original_title   929 non-null    object\n",
      " 3   is_adult         929 non-null    int64 \n",
      " 4   year_of_release  929 non-null    object\n",
      " 5   runtime          929 non-null    object\n",
      " 6   genres           929 non-null    object\n",
      "dtypes: int64(1), object(6)\n",
      "memory usage: 50.9+ KB\n",
      "<class 'pandas.core.frame.DataFrame'>\n",
      "RangeIndex: 935 entries, 0 to 934\n",
      "Data columns (total 3 columns):\n",
      " #   Column       Non-Null Count  Dtype  \n",
      "---  ------       --------------  -----  \n",
      " 0   imdb_id      935 non-null    object \n",
      " 1   imdb_rating  922 non-null    float64\n",
      " 2   imdb_votes   922 non-null    float64\n",
      "dtypes: float64(2), object(1)\n",
      "memory usage: 22.0+ KB\n"
     ]
    }
   ],
   "source": [
    "meta.info()\n",
    "\n",
    "ratings.info()\n"
   ]
  },
  {
   "cell_type": "markdown",
   "id": "a1f3bd10",
   "metadata": {},
   "source": [
    "## Data Preparation\n",
    "\n",
    "### checking for missing data and duplicate data for meta\n",
    "### showing isnull = 0 and duplicated = 3"
   ]
  },
  {
   "cell_type": "code",
   "execution_count": 7,
   "id": "5701e9d3",
   "metadata": {},
   "outputs": [
    {
     "name": "stdout",
     "output_type": "stream",
     "text": [
      "imdb_id            0\n",
      "title              0\n",
      "original_title     0\n",
      "is_adult           0\n",
      "year_of_release    0\n",
      "runtime            0\n",
      "genres             0\n",
      "dtype: int64\n",
      "\n",
      "3\n"
     ]
    }
   ],
   "source": [
    "print(meta.isnull().sum(),meta.duplicated().sum(),sep = '\\n\\n')"
   ]
  },
  {
   "cell_type": "markdown",
   "id": "5f7bdfb8",
   "metadata": {},
   "source": [
    "### now checking for missing data and duplicate data for ratings\n",
    "### isnull data = 13,13(ratings,votes) and duplicated = 3"
   ]
  },
  {
   "cell_type": "code",
   "execution_count": 13,
   "id": "f15d9821",
   "metadata": {},
   "outputs": [
    {
     "name": "stdout",
     "output_type": "stream",
     "text": [
      "imdb_id         0\n",
      "imdb_rating    13\n",
      "imdb_votes     13\n",
      "dtype: int64\n",
      "\n",
      "3\n"
     ]
    }
   ],
   "source": [
    "print(ratings.isnull().sum(),ratings.duplicated().sum(),sep = '\\n\\n')"
   ]
  },
  {
   "cell_type": "markdown",
   "id": "a0659d09",
   "metadata": {},
   "source": [
    "### now checking for actual duplicated entries for meta"
   ]
  },
  {
   "cell_type": "code",
   "execution_count": 8,
   "id": "5a0b1cbf",
   "metadata": {},
   "outputs": [
    {
     "data": {
      "text/html": [
       "<div>\n",
       "<style scoped>\n",
       "    .dataframe tbody tr th:only-of-type {\n",
       "        vertical-align: middle;\n",
       "    }\n",
       "\n",
       "    .dataframe tbody tr th {\n",
       "        vertical-align: top;\n",
       "    }\n",
       "\n",
       "    .dataframe thead th {\n",
       "        text-align: right;\n",
       "    }\n",
       "</style>\n",
       "<table border=\"1\" class=\"dataframe\">\n",
       "  <thead>\n",
       "    <tr style=\"text-align: right;\">\n",
       "      <th></th>\n",
       "      <th>imdb_id</th>\n",
       "      <th>title</th>\n",
       "      <th>original_title</th>\n",
       "      <th>is_adult</th>\n",
       "      <th>year_of_release</th>\n",
       "      <th>runtime</th>\n",
       "      <th>genres</th>\n",
       "    </tr>\n",
       "  </thead>\n",
       "  <tbody>\n",
       "    <tr>\n",
       "      <th>204</th>\n",
       "      <td>tt1954470</td>\n",
       "      <td>Gangs of Wasseypur</td>\n",
       "      <td>Gangs of Wasseypur</td>\n",
       "      <td>0</td>\n",
       "      <td>2012</td>\n",
       "      <td>321</td>\n",
       "      <td>Action|Comedy|Crime</td>\n",
       "    </tr>\n",
       "    <tr>\n",
       "      <th>243</th>\n",
       "      <td>tt2140465</td>\n",
       "      <td>Tanu Weds Manu Returns</td>\n",
       "      <td>Tanu Weds Manu Returns</td>\n",
       "      <td>0</td>\n",
       "      <td>2015</td>\n",
       "      <td>128</td>\n",
       "      <td>Comedy|Drama|Romance</td>\n",
       "    </tr>\n",
       "    <tr>\n",
       "      <th>350</th>\n",
       "      <td>tt2424988</td>\n",
       "      <td>Gabbar is Back</td>\n",
       "      <td>Gabbar is Back</td>\n",
       "      <td>0</td>\n",
       "      <td>2015</td>\n",
       "      <td>128</td>\n",
       "      <td>Action</td>\n",
       "    </tr>\n",
       "  </tbody>\n",
       "</table>\n",
       "</div>"
      ],
      "text/plain": [
       "       imdb_id                   title          original_title  is_adult  \\\n",
       "204  tt1954470      Gangs of Wasseypur      Gangs of Wasseypur         0   \n",
       "243  tt2140465  Tanu Weds Manu Returns  Tanu Weds Manu Returns         0   \n",
       "350  tt2424988          Gabbar is Back          Gabbar is Back         0   \n",
       "\n",
       "    year_of_release runtime                genres  \n",
       "204            2012     321   Action|Comedy|Crime  \n",
       "243            2015     128  Comedy|Drama|Romance  \n",
       "350            2015     128                Action  "
      ]
     },
     "execution_count": 8,
     "metadata": {},
     "output_type": "execute_result"
    }
   ],
   "source": [
    "meta[meta.duplicated('imdb_id')==True]"
   ]
  },
  {
   "cell_type": "code",
   "execution_count": 9,
   "id": "41f71a73",
   "metadata": {},
   "outputs": [
    {
     "data": {
      "text/html": [
       "<div>\n",
       "<style scoped>\n",
       "    .dataframe tbody tr th:only-of-type {\n",
       "        vertical-align: middle;\n",
       "    }\n",
       "\n",
       "    .dataframe tbody tr th {\n",
       "        vertical-align: top;\n",
       "    }\n",
       "\n",
       "    .dataframe thead th {\n",
       "        text-align: right;\n",
       "    }\n",
       "</style>\n",
       "<table border=\"1\" class=\"dataframe\">\n",
       "  <thead>\n",
       "    <tr style=\"text-align: right;\">\n",
       "      <th></th>\n",
       "      <th>imdb_id</th>\n",
       "      <th>title</th>\n",
       "    </tr>\n",
       "  </thead>\n",
       "  <tbody>\n",
       "    <tr>\n",
       "      <th>0</th>\n",
       "      <td>tt0073707</td>\n",
       "      <td>Sholay</td>\n",
       "    </tr>\n",
       "    <tr>\n",
       "      <th>1</th>\n",
       "      <td>tt0246825</td>\n",
       "      <td>Om Dar-B-Dar</td>\n",
       "    </tr>\n",
       "    <tr>\n",
       "      <th>2</th>\n",
       "      <td>tt0403935</td>\n",
       "      <td>Action Jackson</td>\n",
       "    </tr>\n",
       "    <tr>\n",
       "      <th>3</th>\n",
       "      <td>tt0443331</td>\n",
       "      <td>Milenge Milenge</td>\n",
       "    </tr>\n",
       "    <tr>\n",
       "      <th>4</th>\n",
       "      <td>tt0839742</td>\n",
       "      <td>Bhopal: A Prayer for Rain</td>\n",
       "    </tr>\n",
       "    <tr>\n",
       "      <th>...</th>\n",
       "      <td>...</td>\n",
       "      <td>...</td>\n",
       "    </tr>\n",
       "    <tr>\n",
       "      <th>924</th>\n",
       "      <td>tt9496212</td>\n",
       "      <td>22 Yards</td>\n",
       "    </tr>\n",
       "    <tr>\n",
       "      <th>925</th>\n",
       "      <td>tt9558612</td>\n",
       "      <td>PM Narendra Modi</td>\n",
       "    </tr>\n",
       "    <tr>\n",
       "      <th>926</th>\n",
       "      <td>tt9574388</td>\n",
       "      <td>Bachche Kachche Sachche</td>\n",
       "    </tr>\n",
       "    <tr>\n",
       "      <th>927</th>\n",
       "      <td>tt9680136</td>\n",
       "      <td>Pati Patni Aur Woh</td>\n",
       "    </tr>\n",
       "    <tr>\n",
       "      <th>928</th>\n",
       "      <td>tt9795264</td>\n",
       "      <td>Risknamaa</td>\n",
       "    </tr>\n",
       "  </tbody>\n",
       "</table>\n",
       "<p>929 rows × 2 columns</p>\n",
       "</div>"
      ],
      "text/plain": [
       "       imdb_id                      title\n",
       "0    tt0073707                     Sholay\n",
       "1    tt0246825               Om Dar-B-Dar\n",
       "2    tt0403935             Action Jackson\n",
       "3    tt0443331            Milenge Milenge\n",
       "4    tt0839742  Bhopal: A Prayer for Rain\n",
       "..         ...                        ...\n",
       "924  tt9496212                   22 Yards\n",
       "925  tt9558612           PM Narendra Modi\n",
       "926  tt9574388    Bachche Kachche Sachche\n",
       "927  tt9680136         Pati Patni Aur Woh\n",
       "928  tt9795264                  Risknamaa\n",
       "\n",
       "[929 rows x 2 columns]"
      ]
     },
     "execution_count": 9,
     "metadata": {},
     "output_type": "execute_result"
    }
   ],
   "source": [
    "meta[['imdb_id','title']]"
   ]
  },
  {
   "cell_type": "markdown",
   "id": "641aae89",
   "metadata": {},
   "source": [
    "### now checking each data how many time it is being duplicated"
   ]
  },
  {
   "cell_type": "code",
   "execution_count": 10,
   "id": "5a03abc3",
   "metadata": {},
   "outputs": [
    {
     "data": {
      "text/html": [
       "<div>\n",
       "<style scoped>\n",
       "    .dataframe tbody tr th:only-of-type {\n",
       "        vertical-align: middle;\n",
       "    }\n",
       "\n",
       "    .dataframe tbody tr th {\n",
       "        vertical-align: top;\n",
       "    }\n",
       "\n",
       "    .dataframe thead th {\n",
       "        text-align: right;\n",
       "    }\n",
       "</style>\n",
       "<table border=\"1\" class=\"dataframe\">\n",
       "  <thead>\n",
       "    <tr style=\"text-align: right;\">\n",
       "      <th></th>\n",
       "      <th>imdb_id</th>\n",
       "      <th>title</th>\n",
       "      <th>original_title</th>\n",
       "      <th>is_adult</th>\n",
       "      <th>year_of_release</th>\n",
       "      <th>runtime</th>\n",
       "      <th>genres</th>\n",
       "    </tr>\n",
       "  </thead>\n",
       "  <tbody>\n",
       "    <tr>\n",
       "      <th>349</th>\n",
       "      <td>tt2424988</td>\n",
       "      <td>Gabbar is Back</td>\n",
       "      <td>Gabbar is Back</td>\n",
       "      <td>0</td>\n",
       "      <td>2015</td>\n",
       "      <td>128</td>\n",
       "      <td>Action</td>\n",
       "    </tr>\n",
       "    <tr>\n",
       "      <th>350</th>\n",
       "      <td>tt2424988</td>\n",
       "      <td>Gabbar is Back</td>\n",
       "      <td>Gabbar is Back</td>\n",
       "      <td>0</td>\n",
       "      <td>2015</td>\n",
       "      <td>128</td>\n",
       "      <td>Action</td>\n",
       "    </tr>\n",
       "  </tbody>\n",
       "</table>\n",
       "</div>"
      ],
      "text/plain": [
       "       imdb_id           title  original_title  is_adult year_of_release  \\\n",
       "349  tt2424988  Gabbar is Back  Gabbar is Back         0            2015   \n",
       "350  tt2424988  Gabbar is Back  Gabbar is Back         0            2015   \n",
       "\n",
       "    runtime  genres  \n",
       "349     128  Action  \n",
       "350     128  Action  "
      ]
     },
     "execution_count": 10,
     "metadata": {},
     "output_type": "execute_result"
    }
   ],
   "source": [
    "meta[meta['imdb_id'] =='tt1954470']\n",
    "\n",
    "meta[meta['imdb_id'] =='tt2140465']\n",
    "\n",
    "meta[meta['imdb_id'] =='tt2424988']"
   ]
  },
  {
   "cell_type": "markdown",
   "id": "4115b61f",
   "metadata": {},
   "source": [
    "### now checking same for the rating data set"
   ]
  },
  {
   "cell_type": "code",
   "execution_count": 11,
   "id": "54424d9e",
   "metadata": {},
   "outputs": [
    {
     "data": {
      "text/html": [
       "<div>\n",
       "<style scoped>\n",
       "    .dataframe tbody tr th:only-of-type {\n",
       "        vertical-align: middle;\n",
       "    }\n",
       "\n",
       "    .dataframe tbody tr th {\n",
       "        vertical-align: top;\n",
       "    }\n",
       "\n",
       "    .dataframe thead th {\n",
       "        text-align: right;\n",
       "    }\n",
       "</style>\n",
       "<table border=\"1\" class=\"dataframe\">\n",
       "  <thead>\n",
       "    <tr style=\"text-align: right;\">\n",
       "      <th></th>\n",
       "      <th>imdb_id</th>\n",
       "      <th>imdb_rating</th>\n",
       "      <th>imdb_votes</th>\n",
       "    </tr>\n",
       "  </thead>\n",
       "  <tbody>\n",
       "    <tr>\n",
       "      <th>384</th>\n",
       "      <td>tt2424988</td>\n",
       "      <td>7.1</td>\n",
       "      <td>21430.0</td>\n",
       "    </tr>\n",
       "    <tr>\n",
       "      <th>388</th>\n",
       "      <td>tt2140465</td>\n",
       "      <td>7.7</td>\n",
       "      <td>24338.0</td>\n",
       "    </tr>\n",
       "    <tr>\n",
       "      <th>695</th>\n",
       "      <td>tt1954470</td>\n",
       "      <td>8.2</td>\n",
       "      <td>71636.0</td>\n",
       "    </tr>\n",
       "  </tbody>\n",
       "</table>\n",
       "</div>"
      ],
      "text/plain": [
       "       imdb_id  imdb_rating  imdb_votes\n",
       "384  tt2424988          7.1     21430.0\n",
       "388  tt2140465          7.7     24338.0\n",
       "695  tt1954470          8.2     71636.0"
      ]
     },
     "execution_count": 11,
     "metadata": {},
     "output_type": "execute_result"
    }
   ],
   "source": [
    "ratings[ratings.duplicated('imdb_id')==True]"
   ]
  },
  {
   "cell_type": "markdown",
   "id": "fd51c349",
   "metadata": {},
   "source": [
    "### now checking how many time that data is beging get repeated"
   ]
  },
  {
   "cell_type": "code",
   "execution_count": 12,
   "id": "d5eff894",
   "metadata": {},
   "outputs": [
    {
     "data": {
      "text/html": [
       "<div>\n",
       "<style scoped>\n",
       "    .dataframe tbody tr th:only-of-type {\n",
       "        vertical-align: middle;\n",
       "    }\n",
       "\n",
       "    .dataframe tbody tr th {\n",
       "        vertical-align: top;\n",
       "    }\n",
       "\n",
       "    .dataframe thead th {\n",
       "        text-align: right;\n",
       "    }\n",
       "</style>\n",
       "<table border=\"1\" class=\"dataframe\">\n",
       "  <thead>\n",
       "    <tr style=\"text-align: right;\">\n",
       "      <th></th>\n",
       "      <th>imdb_id</th>\n",
       "      <th>imdb_rating</th>\n",
       "      <th>imdb_votes</th>\n",
       "    </tr>\n",
       "  </thead>\n",
       "  <tbody>\n",
       "    <tr>\n",
       "      <th>688</th>\n",
       "      <td>tt1954470</td>\n",
       "      <td>8.2</td>\n",
       "      <td>71636.0</td>\n",
       "    </tr>\n",
       "    <tr>\n",
       "      <th>695</th>\n",
       "      <td>tt1954470</td>\n",
       "      <td>8.2</td>\n",
       "      <td>71636.0</td>\n",
       "    </tr>\n",
       "  </tbody>\n",
       "</table>\n",
       "</div>"
      ],
      "text/plain": [
       "       imdb_id  imdb_rating  imdb_votes\n",
       "688  tt1954470          8.2     71636.0\n",
       "695  tt1954470          8.2     71636.0"
      ]
     },
     "execution_count": 12,
     "metadata": {},
     "output_type": "execute_result"
    }
   ],
   "source": [
    "\n",
    "ratings[ratings['imdb_id']=='tt2424988']\n",
    "\n",
    "ratings[ratings['imdb_id']=='tt2140465']\n",
    "\n",
    "ratings[ratings['imdb_id']=='tt1954470']"
   ]
  },
  {
   "cell_type": "markdown",
   "id": "10a9fa23",
   "metadata": {},
   "source": [
    "### Drop the duplicated for meta and ratings"
   ]
  },
  {
   "cell_type": "code",
   "execution_count": 16,
   "id": "ad1fc82f",
   "metadata": {},
   "outputs": [],
   "source": [
    "meta = meta.drop_duplicates()\n",
    "ratings = ratings.drop_duplicates()"
   ]
  },
  {
   "cell_type": "code",
   "execution_count": 23,
   "id": "9ea46c13",
   "metadata": {},
   "outputs": [
    {
     "name": "stdout",
     "output_type": "stream",
     "text": [
      "False\n",
      "\n",
      "False\n"
     ]
    }
   ],
   "source": [
    "print(meta.duplicated().any(),ratings.duplicated().any(),sep = '\\n\\n')"
   ]
  },
  {
   "cell_type": "markdown",
   "id": "d3faa6c2",
   "metadata": {},
   "source": [
    "### Now checking for missing data"
   ]
  },
  {
   "cell_type": "code",
   "execution_count": 17,
   "id": "b8a57750",
   "metadata": {},
   "outputs": [
    {
     "name": "stdout",
     "output_type": "stream",
     "text": [
      "imdb_id            0\n",
      "title              0\n",
      "original_title     0\n",
      "is_adult           0\n",
      "year_of_release    0\n",
      "runtime            0\n",
      "genres             0\n",
      "dtype: int64\n",
      "\n",
      "imdb_id         0\n",
      "imdb_rating    13\n",
      "imdb_votes     13\n",
      "dtype: int64\n"
     ]
    },
    {
     "data": {
      "text/html": [
       "<div>\n",
       "<style scoped>\n",
       "    .dataframe tbody tr th:only-of-type {\n",
       "        vertical-align: middle;\n",
       "    }\n",
       "\n",
       "    .dataframe tbody tr th {\n",
       "        vertical-align: top;\n",
       "    }\n",
       "\n",
       "    .dataframe thead th {\n",
       "        text-align: right;\n",
       "    }\n",
       "</style>\n",
       "<table border=\"1\" class=\"dataframe\">\n",
       "  <thead>\n",
       "    <tr style=\"text-align: right;\">\n",
       "      <th></th>\n",
       "      <th>imdb_id</th>\n",
       "      <th>imdb_rating</th>\n",
       "      <th>imdb_votes</th>\n",
       "    </tr>\n",
       "  </thead>\n",
       "  <tbody>\n",
       "    <tr>\n",
       "      <th>910</th>\n",
       "      <td>tt7743400</td>\n",
       "      <td>NaN</td>\n",
       "      <td>NaN</td>\n",
       "    </tr>\n",
       "    <tr>\n",
       "      <th>911</th>\n",
       "      <td>tt9248934</td>\n",
       "      <td>NaN</td>\n",
       "      <td>NaN</td>\n",
       "    </tr>\n",
       "    <tr>\n",
       "      <th>912</th>\n",
       "      <td>tt9172840</td>\n",
       "      <td>NaN</td>\n",
       "      <td>NaN</td>\n",
       "    </tr>\n",
       "    <tr>\n",
       "      <th>913</th>\n",
       "      <td>tt8876008</td>\n",
       "      <td>NaN</td>\n",
       "      <td>NaN</td>\n",
       "    </tr>\n",
       "    <tr>\n",
       "      <th>914</th>\n",
       "      <td>tt9495690</td>\n",
       "      <td>NaN</td>\n",
       "      <td>NaN</td>\n",
       "    </tr>\n",
       "    <tr>\n",
       "      <th>915</th>\n",
       "      <td>tt10196464</td>\n",
       "      <td>NaN</td>\n",
       "      <td>NaN</td>\n",
       "    </tr>\n",
       "    <tr>\n",
       "      <th>916</th>\n",
       "      <td>tt10443846</td>\n",
       "      <td>NaN</td>\n",
       "      <td>NaN</td>\n",
       "    </tr>\n",
       "    <tr>\n",
       "      <th>917</th>\n",
       "      <td>tt8110330</td>\n",
       "      <td>NaN</td>\n",
       "      <td>NaN</td>\n",
       "    </tr>\n",
       "    <tr>\n",
       "      <th>918</th>\n",
       "      <td>tt9680136</td>\n",
       "      <td>NaN</td>\n",
       "      <td>NaN</td>\n",
       "    </tr>\n",
       "    <tr>\n",
       "      <th>919</th>\n",
       "      <td>tt8983168</td>\n",
       "      <td>NaN</td>\n",
       "      <td>NaN</td>\n",
       "    </tr>\n",
       "    <tr>\n",
       "      <th>920</th>\n",
       "      <td>tt5668770</td>\n",
       "      <td>NaN</td>\n",
       "      <td>NaN</td>\n",
       "    </tr>\n",
       "    <tr>\n",
       "      <th>921</th>\n",
       "      <td>tt7059844</td>\n",
       "      <td>NaN</td>\n",
       "      <td>NaN</td>\n",
       "    </tr>\n",
       "    <tr>\n",
       "      <th>922</th>\n",
       "      <td>tt8504014</td>\n",
       "      <td>NaN</td>\n",
       "      <td>NaN</td>\n",
       "    </tr>\n",
       "  </tbody>\n",
       "</table>\n",
       "</div>"
      ],
      "text/plain": [
       "        imdb_id  imdb_rating  imdb_votes\n",
       "910   tt7743400          NaN         NaN\n",
       "911   tt9248934          NaN         NaN\n",
       "912   tt9172840          NaN         NaN\n",
       "913   tt8876008          NaN         NaN\n",
       "914   tt9495690          NaN         NaN\n",
       "915  tt10196464          NaN         NaN\n",
       "916  tt10443846          NaN         NaN\n",
       "917   tt8110330          NaN         NaN\n",
       "918   tt9680136          NaN         NaN\n",
       "919   tt8983168          NaN         NaN\n",
       "920   tt5668770          NaN         NaN\n",
       "921   tt7059844          NaN         NaN\n",
       "922   tt8504014          NaN         NaN"
      ]
     },
     "execution_count": 17,
     "metadata": {},
     "output_type": "execute_result"
    }
   ],
   "source": [
    "print(meta.isnull().sum(),ratings.isnull().sum(),sep = '\\n\\n')\n",
    "\n",
    "ratings[ratings['imdb_rating'].isnull()]"
   ]
  },
  {
   "cell_type": "markdown",
   "id": "73d8c33e",
   "metadata": {},
   "source": [
    "### delete these row beacause they are not usefull"
   ]
  },
  {
   "cell_type": "code",
   "execution_count": 18,
   "id": "33a99406",
   "metadata": {},
   "outputs": [
    {
     "data": {
      "text/plain": [
       "imdb_id        False\n",
       "imdb_rating    False\n",
       "imdb_votes     False\n",
       "dtype: bool"
      ]
     },
     "execution_count": 18,
     "metadata": {},
     "output_type": "execute_result"
    }
   ],
   "source": [
    "ratings = ratings.dropna()\n",
    "ratings\n",
    "\n",
    "ratings.isnull().any()"
   ]
  },
  {
   "cell_type": "markdown",
   "id": "db23c012",
   "metadata": {},
   "source": [
    "## Merge\n",
    "\n",
    "### Now data set is free from NAN and duplicate value now ready to merge\n"
   ]
  },
  {
   "cell_type": "code",
   "execution_count": 28,
   "id": "fe011136",
   "metadata": {},
   "outputs": [
    {
     "name": "stdout",
     "output_type": "stream",
     "text": [
      "<class 'pandas.core.frame.DataFrame'>\n",
      "Int64Index: 913 entries, 0 to 912\n",
      "Data columns (total 9 columns):\n",
      " #   Column           Non-Null Count  Dtype  \n",
      "---  ------           --------------  -----  \n",
      " 0   imdb_id          913 non-null    object \n",
      " 1   title            913 non-null    object \n",
      " 2   original_title   913 non-null    object \n",
      " 3   is_adult         913 non-null    int64  \n",
      " 4   year_of_release  913 non-null    object \n",
      " 5   runtime          913 non-null    object \n",
      " 6   genres           913 non-null    object \n",
      " 7   imdb_rating      913 non-null    float64\n",
      " 8   imdb_votes       913 non-null    float64\n",
      "dtypes: float64(2), int64(1), object(6)\n",
      "memory usage: 71.3+ KB\n",
      "imdb_id            False\n",
      "title              False\n",
      "original_title     False\n",
      "is_adult           False\n",
      "year_of_release    False\n",
      "runtime            False\n",
      "genres             False\n",
      "imdb_rating        False\n",
      "imdb_votes         False\n",
      "dtype: bool\n",
      "\n",
      "False\n"
     ]
    }
   ],
   "source": [
    "meta_ratings = pd.merge(meta,ratings,how = 'inner',left_on = 'imdb_id',right_on = 'imdb_id')\n",
    "meta_ratings\n",
    "\n",
    "meta_ratings.info()\n",
    "\n",
    "print(meta_ratings.isnull().any(),meta_ratings.duplicated().any(),sep = '\\n\\n')"
   ]
  },
  {
   "cell_type": "code",
   "execution_count": 27,
   "id": "9f81fa8d",
   "metadata": {},
   "outputs": [
    {
     "data": {
      "text/html": [
       "<div>\n",
       "<style scoped>\n",
       "    .dataframe tbody tr th:only-of-type {\n",
       "        vertical-align: middle;\n",
       "    }\n",
       "\n",
       "    .dataframe tbody tr th {\n",
       "        vertical-align: top;\n",
       "    }\n",
       "\n",
       "    .dataframe thead th {\n",
       "        text-align: right;\n",
       "    }\n",
       "</style>\n",
       "<table border=\"1\" class=\"dataframe\">\n",
       "  <thead>\n",
       "    <tr style=\"text-align: right;\">\n",
       "      <th></th>\n",
       "      <th>imdb_id</th>\n",
       "      <th>title</th>\n",
       "      <th>original_title</th>\n",
       "      <th>year_of_release</th>\n",
       "      <th>runtime</th>\n",
       "      <th>genres</th>\n",
       "    </tr>\n",
       "  </thead>\n",
       "  <tbody>\n",
       "    <tr>\n",
       "      <th>count</th>\n",
       "      <td>912</td>\n",
       "      <td>912</td>\n",
       "      <td>912</td>\n",
       "      <td>912</td>\n",
       "      <td>912</td>\n",
       "      <td>912</td>\n",
       "    </tr>\n",
       "    <tr>\n",
       "      <th>unique</th>\n",
       "      <td>912</td>\n",
       "      <td>911</td>\n",
       "      <td>911</td>\n",
       "      <td>15</td>\n",
       "      <td>98</td>\n",
       "      <td>158</td>\n",
       "    </tr>\n",
       "    <tr>\n",
       "      <th>top</th>\n",
       "      <td>tt0073707</td>\n",
       "      <td>Ghost</td>\n",
       "      <td>Ghost</td>\n",
       "      <td>2015</td>\n",
       "      <td>\\N</td>\n",
       "      <td>Drama</td>\n",
       "    </tr>\n",
       "    <tr>\n",
       "      <th>freq</th>\n",
       "      <td>1</td>\n",
       "      <td>2</td>\n",
       "      <td>2</td>\n",
       "      <td>112</td>\n",
       "      <td>45</td>\n",
       "      <td>95</td>\n",
       "    </tr>\n",
       "  </tbody>\n",
       "</table>\n",
       "</div>"
      ],
      "text/plain": [
       "          imdb_id  title original_title year_of_release runtime genres\n",
       "count         912    912            912             912     912    912\n",
       "unique        912    911            911              15      98    158\n",
       "top     tt0073707  Ghost          Ghost            2015      \\N  Drama\n",
       "freq            1      2              2             112      45     95"
      ]
     },
     "execution_count": 27,
     "metadata": {},
     "output_type": "execute_result"
    }
   ],
   "source": [
    "meta_ratings.describe()\n",
    "\n",
    "meta_ratings.describe(include='object')"
   ]
  },
  {
   "cell_type": "markdown",
   "id": "4b6e2d6e",
   "metadata": {},
   "source": [
    "### checking unique value"
   ]
  },
  {
   "cell_type": "code",
   "execution_count": 29,
   "id": "7b206360",
   "metadata": {},
   "outputs": [
    {
     "data": {
      "text/html": [
       "<div>\n",
       "<style scoped>\n",
       "    .dataframe tbody tr th:only-of-type {\n",
       "        vertical-align: middle;\n",
       "    }\n",
       "\n",
       "    .dataframe tbody tr th {\n",
       "        vertical-align: top;\n",
       "    }\n",
       "\n",
       "    .dataframe thead th {\n",
       "        text-align: right;\n",
       "    }\n",
       "</style>\n",
       "<table border=\"1\" class=\"dataframe\">\n",
       "  <thead>\n",
       "    <tr style=\"text-align: right;\">\n",
       "      <th></th>\n",
       "      <th>imdb_id</th>\n",
       "      <th>title</th>\n",
       "      <th>original_title</th>\n",
       "      <th>is_adult</th>\n",
       "      <th>year_of_release</th>\n",
       "      <th>runtime</th>\n",
       "      <th>genres</th>\n",
       "      <th>imdb_rating</th>\n",
       "      <th>imdb_votes</th>\n",
       "    </tr>\n",
       "  </thead>\n",
       "  <tbody>\n",
       "    <tr>\n",
       "      <th>118</th>\n",
       "      <td>tt1680317</td>\n",
       "      <td>Will You Marry Me</td>\n",
       "      <td>Will You Marry Me</td>\n",
       "      <td>0</td>\n",
       "      <td>\\N</td>\n",
       "      <td>\\N</td>\n",
       "      <td>Drama</td>\n",
       "      <td>0.0</td>\n",
       "      <td>0.0</td>\n",
       "    </tr>\n",
       "  </tbody>\n",
       "</table>\n",
       "</div>"
      ],
      "text/plain": [
       "       imdb_id              title     original_title  is_adult  \\\n",
       "118  tt1680317  Will You Marry Me  Will You Marry Me         0   \n",
       "\n",
       "    year_of_release runtime genres  imdb_rating  imdb_votes  \n",
       "118              \\N      \\N  Drama          0.0         0.0  "
      ]
     },
     "execution_count": 29,
     "metadata": {},
     "output_type": "execute_result"
    }
   ],
   "source": [
    "meta_ratings['year_of_release'].unique()\n",
    "\n",
    "meta_ratings[meta_ratings['year_of_release'] =='\\\\N']"
   ]
  },
  {
   "cell_type": "markdown",
   "id": "e93a215e",
   "metadata": {},
   "source": [
    "### delete that row"
   ]
  },
  {
   "cell_type": "code",
   "execution_count": null,
   "id": "8eeff9db",
   "metadata": {},
   "outputs": [],
   "source": [
    "meta_ratings = meta_ratings.drop(index=118)"
   ]
  },
  {
   "cell_type": "markdown",
   "id": "133dde25",
   "metadata": {},
   "source": [
    "### again checking wheather that row deleted or not "
   ]
  },
  {
   "cell_type": "code",
   "execution_count": 31,
   "id": "91e0e9f9",
   "metadata": {},
   "outputs": [
    {
     "data": {
      "text/html": [
       "<div>\n",
       "<style scoped>\n",
       "    .dataframe tbody tr th:only-of-type {\n",
       "        vertical-align: middle;\n",
       "    }\n",
       "\n",
       "    .dataframe tbody tr th {\n",
       "        vertical-align: top;\n",
       "    }\n",
       "\n",
       "    .dataframe thead th {\n",
       "        text-align: right;\n",
       "    }\n",
       "</style>\n",
       "<table border=\"1\" class=\"dataframe\">\n",
       "  <thead>\n",
       "    <tr style=\"text-align: right;\">\n",
       "      <th></th>\n",
       "      <th>imdb_id</th>\n",
       "      <th>title</th>\n",
       "      <th>original_title</th>\n",
       "      <th>is_adult</th>\n",
       "      <th>year_of_release</th>\n",
       "      <th>runtime</th>\n",
       "      <th>genres</th>\n",
       "      <th>imdb_rating</th>\n",
       "      <th>imdb_votes</th>\n",
       "    </tr>\n",
       "  </thead>\n",
       "  <tbody>\n",
       "  </tbody>\n",
       "</table>\n",
       "</div>"
      ],
      "text/plain": [
       "Empty DataFrame\n",
       "Columns: [imdb_id, title, original_title, is_adult, year_of_release, runtime, genres, imdb_rating, imdb_votes]\n",
       "Index: []"
      ]
     },
     "execution_count": 31,
     "metadata": {},
     "output_type": "execute_result"
    }
   ],
   "source": [
    "meta_ratings[meta_ratings['year_of_release'] =='\\\\N']"
   ]
  },
  {
   "cell_type": "markdown",
   "id": "26027770",
   "metadata": {},
   "source": [
    "## Now let's check some other statistics\n",
    "\n",
    "### Most of the votes are in the range 868,\n",
    "### There are only 37 movies in the range 28-57K\n",
    "### 3 movies got votes more than 100"
   ]
  },
  {
   "cell_type": "code",
   "execution_count": 33,
   "id": "adb8685d",
   "metadata": {},
   "outputs": [
    {
     "data": {
      "image/png": "[encoded data removed]",
      "text/plain": [
       "<Figure size 640x480 with 1 Axes>"
      ]
     },
     "metadata": {},
     "output_type": "display_data"
    }
   ],
   "source": [
    "xvotes = pd.cut(meta_ratings[\"imdb_votes\"], 5)\n",
    "meta_ratings.hist(\"imdb_votes\", bins = 5)\n",
    "pd.value_counts(xvotes);"
   ]
  },
  {
   "cell_type": "markdown",
   "id": "6d687d17",
   "metadata": {},
   "source": [
    "### Most of the rating are in the range from 3.76 to 7.52.\n",
    "### 99 movies for higher rating - 7.5 to 9.4\n",
    "### 13 movies for lowest rating - -0.0094, 1.88"
   ]
  },
  {
   "cell_type": "code",
   "execution_count": 34,
   "id": "f4e7e681",
   "metadata": {},
   "outputs": [
    {
     "data": {
      "image/png": "[encoded data removed]",
      "text/plain": [
       "<Figure size 640x480 with 1 Axes>"
      ]
     },
     "metadata": {},
     "output_type": "display_data"
    }
   ],
   "source": [
    "xratings = pd.cut(meta_ratings[\"imdb_rating\"], 5)\n",
    "meta_ratings.hist(\"imdb_rating\", bins = 5,color ='c')\n",
    "pd.value_counts(xratings);"
   ]
  },
  {
   "cell_type": "markdown",
   "id": "1536a315",
   "metadata": {},
   "source": [
    "### there is relation between votes and ratings\n",
    "### as per line votes increases voting also increase"
   ]
  },
  {
   "cell_type": "code",
   "execution_count": null,
   "id": "dab6ac8d",
   "metadata": {},
   "outputs": [],
   "source": [
    "plt.figure()\n",
    "sns.regplot(meta_ratings.imdb_votes,meta_ratings.imdb_rating);\n",
    "\n",
    "sns.jointplot(\"imdb_votes\",\"imdb_rating\", data = meta_ratings);\n"
   ]
  },
  {
   "cell_type": "markdown",
   "id": "7569c77a",
   "metadata": {},
   "source": [
    "### Now answering some question\n",
    "\n",
    "### Across the year which top-5 movie that got the highest rating ?\n",
    "\n",
    "# Family of Thakurganj got highest rating\n"
   ]
  },
  {
   "cell_type": "code",
   "execution_count": 36,
   "id": "ab9326eb",
   "metadata": {},
   "outputs": [
    {
     "data": {
      "image/png": "[encoded data removed]",
      "text/plain": [
       "<Figure size 500x500 with 1 Axes>"
      ]
     },
     "metadata": {},
     "output_type": "display_data"
    }
   ],
   "source": [
    "meta_ratings.sort_values(by = 'imdb_rating',ascending=False)\n",
    "\n",
    "top5rating = meta_ratings.sort_values(by=\"imdb_rating\", ascending = False)[:10]\n",
    "snstop5ratngPlot = sns.catplot(y= \"title\", x=\"imdb_rating\", data = top5rating, kind = \"bar\")\n",
    "snstop5ratngPlot.set_xticklabels(rotation = 90, fontsize = \"small\");"
   ]
  },
  {
   "cell_type": "markdown",
   "id": "2cdb20ca",
   "metadata": {},
   "source": [
    "### Across the year which top-10 movie that got the highest votes and so were more popular ?"
   ]
  },
  {
   "cell_type": "code",
   "execution_count": 37,
   "id": "a8b5ab15",
   "metadata": {},
   "outputs": [
    {
     "data": {
      "image/png": "[encoded data removed]",
      "text/plain": [
       "<Figure size 500x500 with 1 Axes>"
      ]
     },
     "metadata": {},
     "output_type": "display_data"
    }
   ],
   "source": [
    "meta_ratings.sort_values(by = 'imdb_votes',ascending = False)\n",
    "\n",
    "top5voting = meta_ratings.sort_values(by=\"imdb_votes\", ascending = False)[:10]\n",
    "snstop5votingPlot = sns.catplot(y= \"title\", x=\"imdb_votes\", data = top5voting, kind = \"bar\")\n",
    "snstop5votingPlot.set_xticklabels(rotation = 90, fontsize = \"small\");"
   ]
  },
  {
   "cell_type": "markdown",
   "id": "4e5437ab",
   "metadata": {},
   "source": [
    "### Yearwise which top-5 movie that got the highest voting ?"
   ]
  },
  {
   "cell_type": "code",
   "execution_count": 38,
   "id": "647fc448",
   "metadata": {},
   "outputs": [
    {
     "data": {
      "image/png": "[encoded data removed]",
      "text/plain": [
       "<Figure size 620.361x500 with 1 Axes>"
      ]
     },
     "metadata": {},
     "output_type": "display_data"
    }
   ],
   "source": [
    "def sortYearWise(df, colNames):\n",
    "    return df.sort_values(by=colNames, ascending = False)[:1]\n",
    "\n",
    "yearWisetop5votes = meta_ratings.groupby(\"year_of_release\").apply(sortYearWise, \"imdb_votes\")\n",
    "yearWisetop5votes\n",
    "\n",
    "yearWisevotesPlot1 = sns.catplot(y=\"title\", x = \"imdb_votes\", kind =\"bar\", hue=\"year_of_release\", \n",
    "                                 data = yearWisetop5votes, dodge=False)\n",
    "yearWisevotesPlot1.set_xticklabels(rotation = 90, fontsize = \"small\");"
   ]
  },
  {
   "cell_type": "code",
   "execution_count": null,
   "id": "fb604672",
   "metadata": {},
   "outputs": [],
   "source": []
  },
  {
   "cell_type": "code",
   "execution_count": null,
   "id": "e630c1ba",
   "metadata": {},
   "outputs": [],
   "source": []
  }
 ],
 "metadata": {
  "kernelspec": {
   "display_name": "Python 3 (ipykernel)",
   "language": "python",
   "name": "python3"
  },
  "language_info": {
   "codemirror_mode": {
    "name": "ipython",
    "version": 3
   },
   "file_extension": ".py",
   "mimetype": "text/x-python",
   "name": "python",
   "nbconvert_exporter": "python",
   "pygments_lexer": "ipython3",
   "version": "3.11.2"
  }
 },
 "nbformat": 4,
 "nbformat_minor": 5
}
